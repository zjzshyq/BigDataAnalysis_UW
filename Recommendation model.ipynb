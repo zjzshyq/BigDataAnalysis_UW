{
 "cells": [
  {
   "cell_type": "markdown",
   "metadata": {
    "application/vnd.databricks.v1+cell": {
     "cellMetadata": {},
     "inputWidgets": {},
     "nuid": "4455816f-ce93-490b-8d78-ca49845c7eca",
     "showTitle": false,
     "title": ""
    }
   },
   "source": [
    "# Recommendation model\n",
    "In this task we will use ALS in spark to get the get recommendation based on item similarity.\n",
    "\n",
    "When a user liked an item we will recommend the most similiar items.\n"
   ]
  },
  {
   "cell_type": "code",
   "execution_count": 0,
   "metadata": {
    "application/vnd.databricks.v1+cell": {
     "cellMetadata": {
      "byteLimit": 2048000,
      "rowLimit": 10000
     },
     "inputWidgets": {},
     "nuid": "75eb1bdf-71b3-44ae-bbce-84a6caf6ac11",
     "showTitle": false,
     "title": ""
    }
   },
   "outputs": [],
   "source": [
    "import os\n",
    "\n",
    "from pyspark.sql.types import StructType\n",
    "from pyspark.sql.functions import col\n",
    "from pyspark.ml.recommendation import ALS"
   ]
  },
  {
   "cell_type": "markdown",
   "metadata": {
    "application/vnd.databricks.v1+cell": {
     "cellMetadata": {},
     "inputWidgets": {},
     "nuid": "334d25aa-caad-4982-a260-e9f95b5be719",
     "showTitle": false,
     "title": ""
    }
   },
   "source": [
    "## 1 Loading data"
   ]
  },
  {
   "cell_type": "code",
   "execution_count": 0,
   "metadata": {
    "application/vnd.databricks.v1+cell": {
     "cellMetadata": {
      "byteLimit": 2048000,
      "rowLimit": 10000
     },
     "inputWidgets": {},
     "nuid": "3530702f-e7f9-4ecd-bdf9-4962eed6789f",
     "showTitle": false,
     "title": ""
    }
   },
   "outputs": [
    {
     "output_type": "stream",
     "name": "stdout",
     "output_type": "stream",
     "text": [
      "+------+-------+------+\n|userId|movieId|rating|\n+------+-------+------+\n|     1|      2|   3.5|\n|     1|     29|   3.5|\n|     1|     32|   3.5|\n|     1|     47|   3.5|\n+------+-------+------+\nonly showing top 4 rows\n\n"
     ]
    }
   ],
   "source": [
    "dbfs_dir = '/databricks-datasets/cs110x/ml-20m/data-001'\n",
    "ratings_filename = dbfs_dir + '/ratings.csv' \n",
    "\n",
    "ratings_df_schema = StructType(\n",
    "  [StructField('userId', IntegerType()),\n",
    "   StructField('movieId', IntegerType()),\n",
    "   StructField('rating', DoubleType())]\n",
    ")   \n",
    "\n",
    "ratings_df = sqlContext.read.format('com.databricks.spark.csv')\\\n",
    "    .options(header=True, inferSchema=False).schema(ratings_df_schema)\\\n",
    "    .load(ratings_filename)\n",
    "    \n",
    "ratings_df_sample = ratings_df.sample(fraction=0.01, seed=42)\n",
    "ratings_df.show(4)"
   ]
  },
  {
   "cell_type": "markdown",
   "metadata": {
    "application/vnd.databricks.v1+cell": {
     "cellMetadata": {},
     "inputWidgets": {},
     "nuid": "a8e21925-0d83-466a-8c80-7fd7a618dea5",
     "showTitle": false,
     "title": ""
    }
   },
   "source": [
    "## 2 Modelling"
   ]
  },
  {
   "cell_type": "code",
   "execution_count": 0,
   "metadata": {
    "application/vnd.databricks.v1+cell": {
     "cellMetadata": {
      "byteLimit": 2048000,
      "rowLimit": 10000
     },
     "inputWidgets": {},
     "nuid": "b465f039-93cd-4d88-ae76-d19d2625c6dc",
     "showTitle": false,
     "title": ""
    }
   },
   "outputs": [],
   "source": [
    "als = ALS(maxIter=7, regParam=0.1, userCol=\"userId\", itemCol=\"movieId\", ratingCol=\"rating\", coldStartStrategy=\"drop\")\n",
    "model = als.fit(ratings_df_sample)\n",
    "userRecs = model.recommendForAllUsers(10)\n",
    "movieRecs = model.recommendForAllItems(10)"
   ]
  },
  {
   "cell_type": "code",
   "execution_count": 0,
   "metadata": {
    "application/vnd.databricks.v1+cell": {
     "cellMetadata": {
      "byteLimit": 2048000,
      "rowLimit": 10000
     },
     "inputWidgets": {},
     "nuid": "7806ab3c-e85f-4337-b6ce-883a93fd1fe1",
     "showTitle": false,
     "title": ""
    }
   },
   "outputs": [
    {
     "output_type": "stream",
     "name": "stdout",
     "output_type": "stream",
     "text": [
      "+------+--------------------+\n|userId|     recommendations|\n+------+--------------------+\n|    12|[{93721, 7.427467...|\n|    27|[{1893, 5.3181906...|\n|    31|[{483, 8.968879},...|\n|    53|[{3224, 7.6661563...|\n|    65|[{991, 8.375018},...|\n+------+--------------------+\nonly showing top 5 rows\n\n+-------+--------------------+\n|movieId|     recommendations|\n+-------+--------------------+\n|     12|[{22762, 8.872498...|\n|     26|[{127120, 11.0851...|\n|     27|[{75195, 13.78014...|\n|     28|[{49392, 12.51699...|\n|     31|[{4295, 7.3399525...|\n+-------+--------------------+\nonly showing top 5 rows\n\n"
     ]
    }
   ],
   "source": [
    "userRecs.show(5)\n",
    "movieRecs.show(5)"
   ]
  },
  {
   "cell_type": "markdown",
   "metadata": {
    "application/vnd.databricks.v1+cell": {
     "cellMetadata": {},
     "inputWidgets": {},
     "nuid": "f1d46b11-f867-4e7a-8f90-28f77d1db845",
     "showTitle": false,
     "title": ""
    }
   },
   "source": [
    "## 3 Persistence\n",
    "\n",
    "Usually we put the k/value recommendation results into redis by foreachpartition() instead of collect() to store them locally."
   ]
  },
  {
   "cell_type": "code",
   "execution_count": 0,
   "metadata": {
    "application/vnd.databricks.v1+cell": {
     "cellMetadata": {
      "byteLimit": 2048000,
      "rowLimit": 10000
     },
     "inputWidgets": {},
     "nuid": "7435dd7c-e7ca-4b18-bc3e-7d6156ef270b",
     "showTitle": false,
     "title": ""
    }
   },
   "outputs": [],
   "source": [
    "local_movie_recs = movieRecs.collect()\n",
    "recommendations_dict = {}\n",
    "for row in local_movie_recs:\n",
    "    movie_id = row[\"movieId\"]\n",
    "    recommendations = [(rec[\"userId\"], rec[\"rating\"]) for rec in row[\"recommendations\"]]\n",
    "    recommendations_dict[movie_id] = str.join(',',map(lambda tup:str(tup[0]),recommendations))"
   ]
  },
  {
   "cell_type": "markdown",
   "metadata": {
    "application/vnd.databricks.v1+cell": {
     "cellMetadata": {},
     "inputWidgets": {},
     "nuid": "7fc09e11-b8c1-4f9d-b054-c9eed4431df0",
     "showTitle": false,
     "title": ""
    }
   },
   "source": [
    "## 5 Recommendtation\n",
    "\n",
    "After a user clicked or liked an item, we will recommend the most similiar items from the dictionary."
   ]
  },
  {
   "cell_type": "code",
   "execution_count": 0,
   "metadata": {
    "application/vnd.databricks.v1+cell": {
     "cellMetadata": {
      "byteLimit": 2048000,
      "rowLimit": 10000
     },
     "inputWidgets": {},
     "nuid": "c761e1e7-6421-4cb2-9744-f2127a02c065",
     "showTitle": false,
     "title": ""
    }
   },
   "outputs": [
    {
     "output_type": "stream",
     "name": "stdout",
     "output_type": "stream",
     "text": [
      "If a user liked/clicked the movie 2, we will recommend him these movies 57475,35981,124725,133365,11308,81093,119709,90462,94819,137510\n"
     ]
    }
   ],
   "source": [
    "target_id = 2\n",
    "print('If a user liked/clicked the movie %d, we will recommend him these movies'%target_id, recommendations_dict[2])"
   ]
  }
 ],
 "metadata": {
  "application/vnd.databricks.v1+notebook": {
   "dashboards": [],
   "language": "python",
   "notebookMetadata": {
    "pythonIndentUnit": 4
   },
   "notebookName": "Recommendation model",
   "widgets": {}
  }
 },
 "nbformat": 4,
 "nbformat_minor": 0
}
